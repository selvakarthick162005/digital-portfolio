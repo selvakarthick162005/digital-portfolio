{
  "cells": [
    {
      "cell_type": "markdown",
      "metadata": {
        "id": "view-in-github",
        "colab_type": "text"
      },
      "source": [
        "<a href=\"https://colab.research.google.com/github/selvakarthick162005/digital-portfolio/blob/main/Vehicle.ipynb\" target=\"_parent\"><img src=\"https://colab.research.google.com/assets/colab-badge.svg\" alt=\"Open In Colab\"/></a>"
      ]
    },
    {
      "cell_type": "markdown",
      "source": [
        "Default constructor\n",
        "Vehicle"
      ],
      "metadata": {
        "id": "GLvLm2mFqat6"
      }
    },
    {
      "cell_type": "code",
      "source": [
        "\n",
        "class Vehicle:\n",
        "    # Default constructor (no parameters)\n",
        "    def __init__(self):\n",
        "        self.type = \"Car\"\n",
        "        self.wheels = 4\n",
        "\n",
        "    # Method to display vehicle details\n",
        "    def display_info(self):\n",
        "        print(\"Vehicle Type:\", self.type)\n",
        "        print(\"Number of Wheels:\", self.wheels)\n",
        "\n",
        "# Create an object of Vehicle\n",
        "v1 = Vehicle()\n",
        "\n",
        "# Display vehicle info\n",
        "v1.display_info()"
      ],
      "metadata": {
        "id": "3SXhkcyWqeAM",
        "outputId": "f55b1914-ab0b-47c5-aee4-4130aafdd2b3",
        "colab": {
          "base_uri": "https://localhost:8080/"
        }
      },
      "execution_count": 10,
      "outputs": [
        {
          "output_type": "stream",
          "name": "stdout",
          "text": [
            "Vehicle Type: Car\n",
            "Number of Wheels: 4\n"
          ]
        }
      ]
    }
  ],
  "metadata": {
    "colab": {
      "name": "Welcome to Colab",
      "provenance": [],
      "include_colab_link": true
    },
    "kernelspec": {
      "display_name": "Python 3",
      "name": "python3"
    }
  },
  "nbformat": 4,
  "nbformat_minor": 0
}