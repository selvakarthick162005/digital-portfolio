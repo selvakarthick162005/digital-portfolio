{
  "cells": [
    {
      "cell_type": "markdown",
      "metadata": {
        "id": "view-in-github",
        "colab_type": "text"
      },
      "source": [
        "<a href=\"https://colab.research.google.com/github/selvakarthick162005/digital-portfolio/blob/main/Vehicle%20or%20person.ipynb\" target=\"_parent\"><img src=\"https://colab.research.google.com/assets/colab-badge.svg\" alt=\"Open In Colab\"/></a>"
      ]
    },
    {
      "cell_type": "markdown",
      "source": [
        "Inheritance\n",
        "Vehicle or person"
      ],
      "metadata": {
        "id": "1lFeDQDglAtg"
      }
    },
    {
      "cell_type": "code",
      "source": [
        "\n",
        "# Base class\n",
        "class Vehicle:\n",
        "    def __init__(self, brand, model):\n",
        "        self.brand = brand\n",
        "        self.model = model\n",
        "\n",
        "    def display_info(self):\n",
        "        print(\"Brand:\", self.brand)\n",
        "        print(\"Model:\", self.model)\n",
        "\n",
        "# Derived class\n",
        "class Car(Vehicle):\n",
        "    def __init__(self, brand, model, doors):\n",
        "        super().__init__(brand, model)\n",
        "        self.doors = doors\n",
        "\n",
        "    def display_car_info(self):\n",
        "        self.display_info()\n",
        "        print(\"Number of doors:\", self.doors)\n",
        "\n",
        "# Create a Car object\n",
        "my_car = Car(\"Toyota\", \"Corolla\", 4)\n",
        "my_car.display_car_info()\n",
        "\n",
        "# Base class\n",
        "class Person:\n",
        "    def __init__(self, name):\n",
        "        self.name = name\n",
        "\n",
        "    def show_name(self):\n",
        "        print(\"Name:\", self.name)\n",
        "\n",
        "# Derived class\n",
        "class Student(Person):\n",
        "    def __init__(self, name, grade):\n",
        "        super().__init__(name)\n",
        "        self.grade = grade\n",
        "\n",
        "    def show_student_info(self):\n",
        "        self.show_name()\n",
        "        print(\"Grade:\", self.grade)\n",
        "\n",
        "# Create a Student object\n",
        "student1 = Student(\"Alice\", \"A\")\n",
        "student1.show_student_info()"
      ],
      "metadata": {
        "id": "SDIWUDP5lMjB",
        "outputId": "87920125-cac9-441a-b80c-f5d3494ce572",
        "colab": {
          "base_uri": "https://localhost:8080/"
        }
      },
      "execution_count": 5,
      "outputs": [
        {
          "output_type": "stream",
          "name": "stdout",
          "text": [
            "Brand: Toyota\n",
            "Model: Corolla\n",
            "Number of doors: 4\n",
            "Name: Alice\n",
            "Grade: A\n"
          ]
        }
      ]
    }
  ],
  "metadata": {
    "colab": {
      "name": "Welcome to Colab",
      "provenance": [],
      "include_colab_link": true
    },
    "kernelspec": {
      "display_name": "Python 3",
      "name": "python3"
    }
  },
  "nbformat": 4,
  "nbformat_minor": 0
}