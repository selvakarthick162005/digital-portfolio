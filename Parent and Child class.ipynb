{
  "cells": [
    {
      "cell_type": "markdown",
      "metadata": {
        "id": "view-in-github",
        "colab_type": "text"
      },
      "source": [
        "<a href=\"https://colab.research.google.com/github/selvakarthick162005/digital-portfolio/blob/main/Parent%20and%20Child%20class.ipynb\" target=\"_parent\"><img src=\"https://colab.research.google.com/assets/colab-badge.svg\" alt=\"Open In Colab\"/></a>"
      ]
    },
    {
      "cell_type": "markdown",
      "source": [
        "Polymorphism\n",
        "Parent and Child class"
      ],
      "metadata": {
        "id": "lxneBj_Lmcmx"
      }
    },
    {
      "cell_type": "code",
      "source": [
        "\n",
        "# Parent class\n",
        "class Parent:\n",
        "    def show(self):\n",
        "        print(\"This is the Parent class\")\n",
        "\n",
        "# Child class\n",
        "class Child(Parent):\n",
        "    def show(self):\n",
        "        print(\"This is the Child class\")\n",
        "\n",
        "# Create objects\n",
        "p = Parent()\n",
        "c = Child()\n",
        "\n",
        "# Call the same method for both objects\n",
        "p.show()   # Output: Parent class\n",
        "c.show()   # Output: Child class"
      ],
      "metadata": {
        "id": "r72PvODPmmCf",
        "outputId": "7bcb2421-fcae-4610-9376-b5816d1f6e90",
        "colab": {
          "base_uri": "https://localhost:8080/"
        }
      },
      "execution_count": 6,
      "outputs": [
        {
          "output_type": "stream",
          "name": "stdout",
          "text": [
            "This is the Parent class\n",
            "This is the Child class\n"
          ]
        }
      ]
    }
  ],
  "metadata": {
    "colab": {
      "name": "Welcome to Colab",
      "provenance": [],
      "include_colab_link": true
    },
    "kernelspec": {
      "display_name": "Python 3",
      "name": "python3"
    }
  },
  "nbformat": 4,
  "nbformat_minor": 0
}