{
  "cells": [
    {
      "cell_type": "markdown",
      "metadata": {
        "id": "view-in-github",
        "colab_type": "text"
      },
      "source": [
        "<a href=\"https://colab.research.google.com/github/selvakarthick162005/digital-portfolio/blob/main/Lamda%20function.ipynb\" target=\"_parent\"><img src=\"https://colab.research.google.com/assets/colab-badge.svg\" alt=\"Open In Colab\"/></a>"
      ]
    },
    {
      "cell_type": "markdown",
      "source": [
        "Decorder\n",
        "lamda function"
      ],
      "metadata": {
        "id": "T0S9nDqQpU9J"
      }
    },
    {
      "cell_type": "code",
      "source": [
        "\n",
        "# Simple decoder using lambda function\n",
        "decode_char = lambda c: chr(ord(c) - 1)\n",
        "\n",
        "# Encoded message (each character shifted +1 originally)\n",
        "encoded_message = \"ifmmp\"  # \"hello\" shifted +1\n",
        "\n",
        "# Decode the message using lambda\n",
        "decoded_message = ''.join(decode_char(c) for c in encoded_message)\n",
        "\n",
        "print(\"Encoded message:\", encoded_message)\n",
        "print(\"Decoded message:\", decoded_message)"
      ],
      "metadata": {
        "id": "7t_wnLaBp1hn",
        "outputId": "fd891853-e22d-4534-e7da-62029ea3f423",
        "colab": {
          "base_uri": "https://localhost:8080/"
        }
      },
      "execution_count": 9,
      "outputs": [
        {
          "output_type": "stream",
          "name": "stdout",
          "text": [
            "Encoded message: ifmmp\n",
            "Decoded message: hello\n"
          ]
        }
      ]
    }
  ],
  "metadata": {
    "colab": {
      "name": "Welcome to Colab",
      "provenance": [],
      "include_colab_link": true
    },
    "kernelspec": {
      "display_name": "Python 3",
      "name": "python3"
    }
  },
  "nbformat": 4,
  "nbformat_minor": 0
}