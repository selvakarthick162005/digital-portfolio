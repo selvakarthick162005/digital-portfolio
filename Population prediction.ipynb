{
  "cells": [
    {
      "cell_type": "markdown",
      "metadata": {
        "id": "view-in-github",
        "colab_type": "text"
      },
      "source": [
        "<a href=\"https://colab.research.google.com/github/selvakarthick162005/digital-portfolio/blob/main/Population%20prediction.ipynb\" target=\"_parent\"><img src=\"https://colab.research.google.com/assets/colab-badge.svg\" alt=\"Open In Colab\"/></a>"
      ]
    },
    {
      "cell_type": "markdown",
      "source": [
        "Maths score prediction linear regression\n",
        "Population prediction"
      ],
      "metadata": {
        "id": "N-vja4zbrPnA"
      }
    },
    {
      "cell_type": "code",
      "source": [
        "\n",
        "from sklearn.linear_model import LinearRegression\n",
        "\n",
        "# Example: Hours studied vs Maths score\n",
        "hours = [[1], [2], [3], [4], [5]]\n",
        "scores = [50, 60, 65, 70, 80]\n",
        "\n",
        "# Create and train model\n",
        "model = LinearRegression()\n",
        "model.fit(hours, scores)\n",
        "\n",
        "# Predict score for 6 hours of study\n",
        "predicted_score = model.predict([[6]])\n",
        "print(\"Predicted Maths Score for 6 hours study:\", predicted_score[0])"
      ],
      "metadata": {
        "colab": {
          "base_uri": "https://localhost:8080/"
        },
        "id": "qbp1KvRYreY8",
        "outputId": "0c295251-4414-4365-f7b7-4e320dd6316e"
      },
      "execution_count": 11,
      "outputs": [
        {
          "output_type": "stream",
          "name": "stdout",
          "text": [
            "Predicted Maths Score for 6 hours study: 86.0\n"
          ]
        }
      ]
    }
  ],
  "metadata": {
    "colab": {
      "name": "Welcome to Colab",
      "provenance": [],
      "include_colab_link": true
    },
    "kernelspec": {
      "display_name": "Python 3",
      "name": "python3"
    }
  },
  "nbformat": 4,
  "nbformat_minor": 0
}