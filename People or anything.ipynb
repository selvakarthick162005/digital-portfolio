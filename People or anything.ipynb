{
  "cells": [
    {
      "cell_type": "markdown",
      "metadata": {
        "id": "view-in-github",
        "colab_type": "text"
      },
      "source": [
        "<a href=\"https://colab.research.google.com/github/selvakarthick162005/digital-portfolio/blob/main/People%20or%20anything.ipynb\" target=\"_parent\"><img src=\"https://colab.research.google.com/assets/colab-badge.svg\" alt=\"Open In Colab\"/></a>"
      ]
    },
    {
      "cell_type": "markdown",
      "source": [
        "Abstraction\n",
        "People or anything"
      ],
      "metadata": {
        "id": "vI1nVfM-nSYo"
      }
    },
    {
      "cell_type": "code",
      "source": [
        "\n",
        "from abc import ABC, abstractmethod\n",
        "\n",
        "# Abstract class\n",
        "class Person(ABC):\n",
        "    @abstractmethod\n",
        "    def work(self):\n",
        "        pass  # Abstract method with no body\n",
        "\n",
        "# Concrete class\n",
        "class Student(Person):\n",
        "    def work(self):\n",
        "        print(\"Student is studying.\")\n",
        "\n",
        "# Create object of Student\n",
        "s = Student()\n",
        "s.work()"
      ],
      "metadata": {
        "colab": {
          "base_uri": "https://localhost:8080/"
        },
        "id": "3N2jWlalnYhJ",
        "outputId": "99663244-4f06-4fd1-dbc2-39a50358354a"
      },
      "execution_count": 7,
      "outputs": [
        {
          "output_type": "stream",
          "name": "stdout",
          "text": [
            "Student is studying.\n"
          ]
        }
      ]
    }
  ],
  "metadata": {
    "colab": {
      "name": "Welcome to Colab",
      "provenance": [],
      "include_colab_link": true
    },
    "kernelspec": {
      "display_name": "Python 3",
      "name": "python3"
    }
  },
  "nbformat": 4,
  "nbformat_minor": 0
}