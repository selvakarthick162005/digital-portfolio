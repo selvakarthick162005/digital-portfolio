{
  "cells": [
    {
      "cell_type": "markdown",
      "metadata": {
        "id": "view-in-github",
        "colab_type": "text"
      },
      "source": [
        "<a href=\"https://colab.research.google.com/github/selvakarthick162005/digital-portfolio/blob/main/And%20Or%20Not.ipynb\" target=\"_parent\"><img src=\"https://colab.research.google.com/assets/colab-badge.svg\" alt=\"Open In Colab\"/></a>"
      ]
    },
    {
      "cell_type": "markdown",
      "source": [
        "Logical\n",
        "And Or Not"
      ],
      "metadata": {
        "id": "u1-qslD8jyup"
      }
    },
    {
      "cell_type": "code",
      "source": [
        "\n",
        "# Assign values\n",
        "A = True\n",
        "B = False\n",
        "\n",
        "# Display the values\n",
        "print(\"A =\", A)\n",
        "print(\"B =\", B)\n",
        "\n",
        "# Logical AND\n",
        "print(\"A and B:\", A and B)\n",
        "\n",
        "# Logical OR\n",
        "print(\"A or B:\", A or B)\n",
        "\n",
        "# Logical NOT\n",
        "print(\"not A:\", not A)\n",
        "print(\"not B:\", not B)"
      ],
      "metadata": {
        "id": "XuaKNX2yj3IJ",
        "outputId": "24633a3d-14ca-4f1d-8ecf-4c4a1d613953",
        "colab": {
          "base_uri": "https://localhost:8080/"
        }
      },
      "execution_count": 4,
      "outputs": [
        {
          "output_type": "stream",
          "name": "stdout",
          "text": [
            "A = True\n",
            "B = False\n",
            "A and B: False\n",
            "A or B: True\n",
            "not A: False\n",
            "not B: True\n"
          ]
        }
      ]
    }
  ],
  "metadata": {
    "colab": {
      "name": "Welcome to Colab",
      "provenance": [],
      "include_colab_link": true
    },
    "kernelspec": {
      "display_name": "Python 3",
      "name": "python3"
    }
  },
  "nbformat": 4,
  "nbformat_minor": 0
}