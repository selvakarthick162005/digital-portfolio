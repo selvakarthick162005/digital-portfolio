{
  "cells": [
    {
      "cell_type": "markdown",
      "metadata": {
        "id": "view-in-github",
        "colab_type": "text"
      },
      "source": [
        "<a href=\"https://colab.research.google.com/github/selvakarthick162005/digital-portfolio/blob/main/Aadhaar%20fill%20up%20form.ipynb\" target=\"_parent\"><img src=\"https://colab.research.google.com/assets/colab-badge.svg\" alt=\"Open In Colab\"/></a>"
      ]
    },
    {
      "cell_type": "markdown",
      "source": [
        "City how many building in feature engineering"
      ],
      "metadata": {
        "id": "x8k8bPGGQFfP"
      }
    },
    {
      "cell_type": "markdown",
      "source": [
        "Aadhaar fill up form"
      ],
      "metadata": {
        "id": "O-8WnAdCRLZa"
      }
    },
    {
      "cell_type": "code",
      "source": [
        "\n",
        "# Aadhaar Form Fill-up Simulation\n",
        "\n",
        "# Collecting user input\n",
        "name = input(\"Enter your full name: \")\n",
        "age = input(\"Enter your age: \")\n",
        "gender = input(\"Enter your gender (Male/Female/Other): \")\n",
        "dob = input(\"Enter your date of birth (DD-MM-YYYY): \")\n",
        "address = input(\"Enter your address: \")\n",
        "mobile = input(\"Enter your mobile number: \")\n",
        "email = input(\"Enter your email ID: \")\n",
        "\n",
        "# Displaying the filled Aadhaar form\n",
        "print(\"\\n--- Aadhaar Enrollment Form ---\")\n",
        "print(\"Name        :\", name)\n",
        "print(\"Age         :\", age)\n",
        "print(\"Gender      :\", gender)\n",
        "print(\"Date of Birth:\", dob)\n",
        "print(\"Address     :\", address)\n",
        "print(\"Mobile No.  :\", mobile)\n",
        "print(\"Email ID    :\", email)\n",
        "print(\"\\nThank you! Your Aadhaar form has been submitted.\")"
      ],
      "metadata": {
        "id": "WPEk9xExRRE8",
        "outputId": "e7c5859d-b7b6-4eb5-a2e1-ffbb71102f94",
        "colab": {
          "base_uri": "https://localhost:8080/"
        }
      },
      "execution_count": 2,
      "outputs": [
        {
          "output_type": "stream",
          "name": "stdout",
          "text": [
            "Enter your full name: Ravi Kumar \n",
            "Enter your age: 29\n",
            "Enter your gender (Male/Female/Other): Male\n",
            "Enter your date of birth (DD-MM-YYYY): 15.8.1995\n",
            "Enter your address: Chennai, Tamil nadu\n",
            "Enter your mobile number: 9876543210\n",
            "Enter your email ID: Ravi@gmail.com\n",
            "\n",
            "--- Aadhaar Enrollment Form ---\n",
            "Name        : Ravi Kumar \n",
            "Age         : 29\n",
            "Gender      : Male\n",
            "Date of Birth: 15.8.1995\n",
            "Address     : Chennai, Tamil nadu\n",
            "Mobile No.  : 9876543210\n",
            "Email ID    : Ravi@gmail.com\n",
            "\n",
            "Thank you! Your Aadhaar form has been submitted.\n"
          ]
        }
      ]
    }
  ],
  "metadata": {
    "colab": {
      "name": "Welcome to Colab",
      "provenance": [],
      "include_colab_link": true
    },
    "kernelspec": {
      "display_name": "Python 3",
      "name": "python3"
    }
  },
  "nbformat": 4,
  "nbformat_minor": 0
}