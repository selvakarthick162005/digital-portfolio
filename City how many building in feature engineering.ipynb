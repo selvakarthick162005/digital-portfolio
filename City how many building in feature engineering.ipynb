{
  "cells": [
    {
      "cell_type": "markdown",
      "metadata": {
        "id": "view-in-github",
        "colab_type": "text"
      },
      "source": [
        "<a href=\"https://colab.research.google.com/github/selvakarthick162005/digital-portfolio/blob/main/City%20how%20many%20building%20in%20feature%20engineering.ipynb\" target=\"_parent\"><img src=\"https://colab.research.google.com/assets/colab-badge.svg\" alt=\"Open In Colab\"/></a>"
      ]
    },
    {
      "cell_type": "markdown",
      "source": [
        "City how many building in feature engineering"
      ],
      "metadata": {
        "id": "x8k8bPGGQFfP"
      }
    },
    {
      "cell_type": "code",
      "source": [
        "\n",
        "import pandas as pd\n",
        "\n",
        "# Sample data: City and Building Name\n",
        "data = {\n",
        "    'City': ['New York', 'New York', 'Los Angeles', 'Chicago', 'Chicago', 'Chicago'],\n",
        "    'Building': ['Empire State', 'One World', 'US Bank Tower', 'Willis Tower', 'Trump Tower', 'Aon Center']\n",
        "}\n",
        "\n",
        "# Create DataFrame\n",
        "df = pd.DataFrame(data)\n",
        "\n",
        "# Feature Engineering: Count number of buildings per city\n",
        "df['Building_Count'] = df.groupby('City')['Building'].transform('count')\n",
        "\n",
        "# Drop duplicates to show city and building count only once per city\n",
        "result = df[['City', 'Building_Count']].drop_duplicates()\n",
        "\n",
        "# Print the result\n",
        "print(result)"
      ],
      "metadata": {
        "id": "y_4bOILBQPDl",
        "outputId": "59c3aa37-5636-4a73-ab2e-85e5a2e3c1ed",
        "colab": {
          "base_uri": "https://localhost:8080/"
        }
      },
      "execution_count": 1,
      "outputs": [
        {
          "output_type": "stream",
          "name": "stdout",
          "text": [
            "          City  Building_Count\n",
            "0     New York               2\n",
            "2  Los Angeles               1\n",
            "3      Chicago               3\n"
          ]
        }
      ]
    }
  ],
  "metadata": {
    "colab": {
      "name": "Welcome to Colab",
      "provenance": [],
      "include_colab_link": true
    },
    "kernelspec": {
      "display_name": "Python 3",
      "name": "python3"
    }
  },
  "nbformat": 4,
  "nbformat_minor": 0
}